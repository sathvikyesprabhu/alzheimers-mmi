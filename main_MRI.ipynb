{
 "cells": [
  {
   "cell_type": "code",
   "execution_count": 1,
   "metadata": {},
   "outputs": [],
   "source": [
    "import torch\n",
    "import torch.nn as nn\n",
    "import torch.nn.functional as F\n",
    "from torchvision import transforms, models, datasets\n",
    "from torch.utils.data import DataLoader\n",
    "\n",
    "import numpy as np\n",
    "import matplotlib.pyplot as plt\n",
    "import os\n",
    "import pandas as pd\n",
    "import seaborn as sn\n",
    "from sklearn.metrics import classification_report, confusion_matrix\n",
    "\n",
    "from resnet import ResNet\n",
    "from unet import UNet\n",
    "from utils import *"
   ]
  },
  {
   "cell_type": "code",
   "execution_count": 2,
   "metadata": {},
   "outputs": [
    {
     "name": "stdout",
     "output_type": "stream",
     "text": [
      "True\n",
      "0\n",
      "1\n",
      "NVIDIA GeForce GTX 1070\n"
     ]
    }
   ],
   "source": [
    "print(torch.cuda.is_available())\n",
    "print(torch.cuda.current_device())\n",
    "print(torch.cuda.device_count())\n",
    "print(torch.cuda.get_device_name(0))\n",
    "\n",
    "device = torch.device('cuda:0' if torch.cuda.is_available() else 'cpu')"
   ]
  },
  {
   "cell_type": "code",
   "execution_count": null,
   "metadata": {},
   "outputs": [],
   "source": []
  },
  {
   "cell_type": "code",
   "execution_count": 3,
   "metadata": {},
   "outputs": [],
   "source": [
    "num_180 = 0\n",
    "num_166 = 0\n",
    "num_162 = 0\n",
    "num_other = 0\n",
    "\n",
    "cls_num_list_train = [0,0,0]\n",
    "cls_num_list_test = [0,0,0]\n",
    "n = 0\n",
    "bigmat_train = []\n",
    "bigmat_test = []\n",
    "\n",
    "for folder in [\"train\",\"test\"]:\n",
    "    for cls_idx,subfolder in enumerate([\"AD\",\"CN\",\"MCI\"]):\n",
    "        files = os.listdir('MRI_all/' + folder + '/' + subfolder)\n",
    "        \n",
    "        for file in files:\n",
    "            mat = np.load('MRI_all/' + folder + '/' + subfolder + '/' + file)\n",
    "            \n",
    "            if folder==\"train\":\n",
    "                # bigmat_train.append(mat)\n",
    "                n += 1\n",
    "                cls_num_list_train[cls_idx] += 1\n",
    "            if folder==\"test\":\n",
    "                # bigmat_test.append(mat)\n",
    "                cls_num_list_test[cls_idx] +=1\n",
    "            \n",
    "            # print(folder, subfolder, file, mat.shape)\n",
    "            if(mat.shape[0] == 162):\n",
    "                num_162 += 1\n",
    "            else:\n",
    "                num_other += 1\n",
    "            # np.save(folder + '/' + subfolder + '/' + file, mat)"
   ]
  },
  {
   "cell_type": "code",
   "execution_count": 4,
   "metadata": {},
   "outputs": [],
   "source": [
    "# !rm -R MRI_all/train/.ipynb_checkpoints\n",
    "# !rm -R MRI_all/test/.ipynb_checkpoints\n",
    "# !ls train -a\n",
    "# !ls test -a"
   ]
  },
  {
   "cell_type": "code",
   "execution_count": 5,
   "metadata": {},
   "outputs": [
    {
     "name": "stdout",
     "output_type": "stream",
     "text": [
      "0 0 1624\n",
      "[207, 483, 607] [38, 127, 162]\n"
     ]
    }
   ],
   "source": [
    "print(num_166, num_180, num_162)\n",
    "print(cls_num_list_train, cls_num_list_test)"
   ]
  },
  {
   "cell_type": "code",
   "execution_count": 5,
   "metadata": {},
   "outputs": [
    {
     "name": "stdout",
     "output_type": "stream",
     "text": [
      "(1297, 162, 256, 256)\n",
      "(327, 162, 256, 256)\n"
     ]
    }
   ],
   "source": [
    "# bigmat_train = np.stack(bigmat_train)\n",
    "# print(bigmat_train.shape)\n",
    "# bigmat_test = np.stack(bigmat_test)\n",
    "# print(bigmat_test.shape)"
   ]
  },
  {
   "cell_type": "code",
   "execution_count": 65,
   "metadata": {},
   "outputs": [],
   "source": [
    "# np.save(\"bigmat_MRI.npy\",bigmat)\n",
    "# np.save(\"bigmat_test_MRI.npy\",bigmat_test)"
   ]
  },
  {
   "cell_type": "code",
   "execution_count": 9,
   "metadata": {},
   "outputs": [],
   "source": [
    "# file_idx = 110\n",
    "\n",
    "# plt.figure(figsize=(15,15))\n",
    "# for idx in range(162):\n",
    "#     plt.subplot(12,15,idx+1)\n",
    "#     plt.imshow(bigmat_train[file_idx,idx,:,:],cmap='gray')\n",
    "#     plt.xticks([]);plt.yticks([])\n",
    "# plt.show()"
   ]
  },
  {
   "cell_type": "code",
   "execution_count": 10,
   "metadata": {},
   "outputs": [],
   "source": [
    "# !ls train/CN -a"
   ]
  },
  {
   "cell_type": "code",
   "execution_count": 6,
   "metadata": {},
   "outputs": [],
   "source": [
    "# bigmat = bigmat/255\n",
    "# mean_list = np.mean(bigmat,axis=(0,2,3))/255\n",
    "# std_list = np.std(bigmat,axis=(0,2,3))/255\n",
    "\n",
    "mean_list = np.load(\"MRI_mean.npy\")\n",
    "std_list = np.load(\"MRI_std.npy\")"
   ]
  },
  {
   "cell_type": "code",
   "execution_count": 7,
   "metadata": {},
   "outputs": [],
   "source": [
    "transform_train = transforms.Compose([transforms.ToTensor(),\n",
    "                                     transforms.RandomCrop(256, padding=16),\n",
    "                                     # transforms.ColorJitter(brightness=0.2, contrast=0.2, saturation=0, hue=0),\n",
    "                                     transforms.GaussianBlur(kernel_size = (5,5), sigma=(0.2,0.2)),\n",
    "                                     transforms.Normalize(mean_list, std_list)\n",
    "                                    ])\n",
    "transform_test = transforms.Compose([transforms.ToTensor(),\n",
    "                                    transforms.Normalize(mean_list, std_list)])\n",
    "\n",
    "def npy_loader_train(path):\n",
    "    mat = np.load(path)\n",
    "    mat = np.transpose(mat, (1,2,0))\n",
    "    mat = transform_train(mat)\n",
    "    return mat\n",
    "\n",
    "def npy_loader_test(path):\n",
    "    mat = np.load(path)\n",
    "    mat = np.transpose(mat, (1,2,0))\n",
    "    mat = transform_test(mat)\n",
    "    return mat\n",
    "\n",
    "trainset = datasets.DatasetFolder(root=\"MRI_all/train\", loader=npy_loader_train, extensions=(\".npy\"))\n",
    "testset = datasets.DatasetFolder(root=\"MRI_all/test\", loader=npy_loader_test, extensions=(\".npy\"))\n",
    "\n",
    "trainloader = DataLoader(trainset, batch_size=2, shuffle=True)\n",
    "testloader = DataLoader(testset, batch_size=2, shuffle=False)"
   ]
  },
  {
   "cell_type": "code",
   "execution_count": null,
   "metadata": {},
   "outputs": [],
   "source": [
    "# for x,y in trainloader:\n",
    "#     print(x)\n",
    "#     break"
   ]
  },
  {
   "cell_type": "markdown",
   "metadata": {},
   "source": [
    "## Model"
   ]
  },
  {
   "cell_type": "code",
   "execution_count": 8,
   "metadata": {},
   "outputs": [
    {
     "name": "stdout",
     "output_type": "stream",
     "text": [
      "31.154291 M parameters\n"
     ]
    },
    {
     "data": {
      "text/plain": [
       "tensor([[ 0.0789, -0.2097,  0.2809]], grad_fn=<AddmmBackward0>)"
      ]
     },
     "execution_count": 8,
     "metadata": {},
     "output_type": "execute_result"
    }
   ],
   "source": [
    "# model = ResNet(in_channels= 162, num_classes=3)\n",
    "model = UNet(in_channels=162, num_classes=3)\n",
    "\n",
    "print(sum(p.numel() for p in model.parameters())/1000000, \"M parameters\")\n",
    "x = torch.randn(1,162,256,256)\n",
    "model(x)"
   ]
  },
  {
   "cell_type": "markdown",
   "metadata": {},
   "source": [
    "## Training"
   ]
  },
  {
   "cell_type": "code",
   "execution_count": 9,
   "metadata": {},
   "outputs": [],
   "source": [
    "per_cls_weights = [0.5,0.3,0.2]\n",
    "criterion = nn.CrossEntropyLoss(weight=torch.tensor(per_cls_weights)) # CE Loss, Takes care of applying softmax\n",
    "\n",
    "# per_cls_weights = reweight(cls_num_list_train, beta=0.999)\n",
    "# criterion = FocalLoss(weight=per_cls_weights, gamma=2)\n",
    "\n",
    "optimizer = torch.optim.Adam(model.parameters(), lr=0.01) # Adam optimizer\n",
    "# optimizer = torch.optim.SGD(model.parameters(), lr=0.01, momentum=0.9, weight_decay=5e-4) # SGD\n",
    "scheduler = torch.optim.lr_scheduler.StepLR(optimizer, step_size=5, gamma=0.5)\n",
    "\n",
    "model = model.to(device)\n",
    "criterion = criterion.to(device)"
   ]
  },
  {
   "cell_type": "code",
   "execution_count": 10,
   "metadata": {},
   "outputs": [
    {
     "name": "stdout",
     "output_type": "stream",
     "text": [
      "Epoch:0 | Train loss: 1.1107 | Test loss: 1.0179 | Train acc.: 0.4256 | Test acc.: 0.4954\n",
      "\n",
      "Epoch:1 | Train loss: 1.0657 | Test loss: 1.0076 | Train acc.: 0.4395 | Test acc.: 0.3884\n",
      "\n",
      "Epoch:2 | Train loss: 1.0603 | Test loss: 1.0147 | Train acc.: 0.4387 | Test acc.: 0.3884\n",
      "\n",
      "Epoch:3 | Train loss: 1.0611 | Test loss: 1.0116 | Train acc.: 0.4348 | Test acc.: 0.3884\n",
      "\n",
      "Epoch:4 | Train loss: 1.0631 | Test loss: 0.9863 | Train acc.: 0.3855 | Test acc.: 0.4954\n",
      "\n",
      "Epoch:5 | Train loss: 1.0578 | Test loss: 1.0196 | Train acc.: 0.4541 | Test acc.: 0.3884\n",
      "\n",
      "Epoch:6 | Train loss: 1.0623 | Test loss: 1.0148 | Train acc.: 0.4009 | Test acc.: 0.3884\n",
      "\n",
      "Epoch:7 | Train loss: 1.0607 | Test loss: 1.0023 | Train acc.: 0.4079 | Test acc.: 0.4954\n",
      "\n",
      "Epoch:8 | Train loss: 1.0618 | Test loss: 0.9956 | Train acc.: 0.4279 | Test acc.: 0.3884\n",
      "\n",
      "Epoch:9 | Train loss: 1.0624 | Test loss: 1.0034 | Train acc.: 0.4079 | Test acc.: 0.4954\n",
      "\n",
      "Epoch:10 | Train loss: 1.0604 | Test loss: 0.9954 | Train acc.: 0.4040 | Test acc.: 0.4954\n",
      "\n",
      "Epoch:11 | Train loss: 1.0583 | Test loss: 0.9983 | Train acc.: 0.4526 | Test acc.: 0.4954\n",
      "\n",
      "Epoch:12 | Train loss: 1.0609 | Test loss: 0.9958 | Train acc.: 0.4395 | Test acc.: 0.4954\n",
      "\n",
      "Epoch:13 | Train loss: 1.0599 | Test loss: 1.0017 | Train acc.: 0.4580 | Test acc.: 0.4954\n",
      "\n",
      "Epoch:14 | Train loss: 1.0571 | Test loss: 0.9937 | Train acc.: 0.4372 | Test acc.: 0.4954\n",
      "\n",
      "Epoch:15 | Train loss: 1.0588 | Test loss: 0.9952 | Train acc.: 0.4572 | Test acc.: 0.4954\n",
      "\n",
      "Epoch:16 | Train loss: 1.0608 | Test loss: 1.0008 | Train acc.: 0.4588 | Test acc.: 0.4587\n",
      "\n",
      "Epoch:17 | Train loss: 1.0610 | Test loss: 0.9973 | Train acc.: 0.4449 | Test acc.: 0.4954\n",
      "\n",
      "Epoch:18 | Train loss: 1.0596 | Test loss: 1.0014 | Train acc.: 0.4549 | Test acc.: 0.4709\n",
      "\n",
      "Epoch:19 | Train loss: 1.0587 | Test loss: 1.0010 | Train acc.: 0.4464 | Test acc.: 0.4954\n",
      "\n",
      "Epoch:20 | Train loss: 1.0602 | Test loss: 0.9984 | Train acc.: 0.4680 | Test acc.: 0.4954\n",
      "\n",
      "Epoch:21 | Train loss: 1.0609 | Test loss: 1.0003 | Train acc.: 0.4518 | Test acc.: 0.4954\n",
      "\n",
      "Epoch:22 | Train loss: 1.0603 | Test loss: 1.0004 | Train acc.: 0.4402 | Test acc.: 0.4954\n",
      "\n",
      "Epoch:23 | Train loss: 1.0587 | Test loss: 0.9988 | Train acc.: 0.4125 | Test acc.: 0.4954\n",
      "\n",
      "Epoch:24 | Train loss: 1.0585 | Test loss: 1.0069 | Train acc.: 0.4641 | Test acc.: 0.4954\n",
      "\n"
     ]
    }
   ],
   "source": [
    "train_loss_list = []\n",
    "test_loss_list = []\n",
    "\n",
    "for epoch in range(25):  # num epochs\n",
    "    \n",
    "    # Training\n",
    "    model.train() # Set to train mode\n",
    "    running_loss = 0.0\n",
    "    running_corrects = 0\n",
    "\n",
    "    for i, data in enumerate(trainloader): # Get data batch-wise\n",
    "        inputs, labels = data\n",
    "        inputs, labels = inputs.to(device), labels.to(device)\n",
    "        # print(inputs.shape, inputs.dtype)\n",
    "        # labels = labels.type(torch.LongTensor)\n",
    "\n",
    "        # zero out gradients\n",
    "        optimizer.zero_grad()\n",
    "\n",
    "        outputs = model(inputs) # forward pass\n",
    "        # print(outputs.shape, labels.shape)\n",
    "        loss = criterion(outputs, labels) # Get loss\n",
    "        loss.backward() # Backward pass\n",
    "        optimizer.step() # Optimize model weights\n",
    "\n",
    "        _, preds = torch.max(outputs, 1) # Get predictions\n",
    "        running_loss += loss.detach() * inputs.size(0)\n",
    "        running_corrects += torch.sum(preds == labels.data)\n",
    "\n",
    "    # Get loss and accuracy\n",
    "    train_loss = (running_loss / len(trainset))\n",
    "    train_loss_list.append(train_loss.item())\n",
    "    train_accuracy = (running_corrects.float() / len(trainset))\n",
    "\n",
    "    # Testing\n",
    "    model.eval() # Set to eval mode\n",
    "    running_loss = 0.0\n",
    "    running_corrects = 0\n",
    "    y = []; yhat = []\n",
    "\n",
    "    for i, data in enumerate(testloader):\n",
    "        inputs, labels = data\n",
    "        inputs, labels = inputs.to(device), labels.to(device)\n",
    "        # labels = labels.type(torch.LongTensor)\n",
    "\n",
    "        # forward + backward + optimize\n",
    "        with torch.no_grad(): # Don't build computation graph for testing\n",
    "            outputs = model(inputs)\n",
    "        # print(outputs.shape, labels.shape)\n",
    "        loss = criterion(outputs, labels)\n",
    "\n",
    "        _, preds = torch.max(outputs, 1)\n",
    "        y.append(labels.tolist())\n",
    "        yhat.append(preds.tolist())\n",
    "        running_loss += loss.detach() * inputs.size(0)\n",
    "        running_corrects += torch.sum(preds == labels.data)\n",
    "    \n",
    "    scheduler.step() # Update lr\n",
    "    \n",
    "    # Get loss and accuracy\n",
    "    test_loss = (running_loss / len(testset))\n",
    "    test_loss_list.append(test_loss.item())\n",
    "    test_accuracy = (running_corrects.float() / len(testset))\n",
    "\n",
    "    # Display loss, accuracy values after each epoch\n",
    "    print(\"Epoch:{} | Train loss: {:.4f} | Test loss: {:.4f} | Train acc.: {:.4f} | Test acc.: {:.4f}\\n\"\n",
    "              .format(epoch, train_loss.item(),test_loss.item(),train_accuracy.item(),test_accuracy.item()))\n"
   ]
  },
  {
   "cell_type": "code",
   "execution_count": 11,
   "metadata": {},
   "outputs": [
    {
     "data": {
      "image/png": "[encoded data removed]",
      "text/plain": [
       "<Figure size 432x288 with 1 Axes>"
      ]
     },
     "metadata": {
      "needs_background": "light"
     },
     "output_type": "display_data"
    }
   ],
   "source": [
    "# Loss curves\n",
    "plt.plot(train_loss_list)\n",
    "plt.plot(test_loss_list)\n",
    "plt.xlabel(\"Epoch\"); plt.ylabel(\"Loss\")\n",
    "plt.ylim(bottom = 0)\n",
    "plt.legend([\"Train loss\", \"Test loss\"])\n",
    "plt.show()"
   ]
  },
  {
   "cell_type": "markdown",
   "metadata": {},
   "source": [
    "## Evaluation"
   ]
  },
  {
   "cell_type": "code",
   "execution_count": 12,
   "metadata": {},
   "outputs": [
    {
     "name": "stdout",
     "output_type": "stream",
     "text": [
      "              precision    recall  f1-score   support\n",
      "\n",
      "          AD     0.0000    0.0000    0.0000        38\n",
      "          CN     0.0000    0.0000    0.0000       127\n",
      "         MCI     0.4954    1.0000    0.6626       162\n",
      "\n",
      "    accuracy                         0.4954       327\n",
      "   macro avg     0.1651    0.3333    0.2209       327\n",
      "weighted avg     0.2454    0.4954    0.3282       327\n",
      "\n"
     ]
    }
   ],
   "source": [
    "y = np.hstack(y)\n",
    "yhat = np.hstack(yhat)\n",
    "print(classification_report(y, yhat, target_names=trainset.classes, digits=4))"
   ]
  },
  {
   "cell_type": "code",
   "execution_count": 13,
   "metadata": {},
   "outputs": [
    {
     "data": {
      "image/png": "[encoded data removed]",
      "text/plain": [
       "<Figure size 432x288 with 2 Axes>"
      ]
     },
     "metadata": {
      "needs_background": "light"
     },
     "output_type": "display_data"
    }
   ],
   "source": [
    "cm=confusion_matrix(y,yhat)\n",
    "class_names=trainset.classes\n",
    "#     print(cm)\n",
    "\n",
    "# Enhanced confusion matrix\n",
    "plt.figure(figsize=(6,4))\n",
    "df_cm = pd.DataFrame(cm, index=class_names, columns=class_names).astype(int)\n",
    "heatmap = sn.heatmap(df_cm, cmap=\"Blues\", annot=True, fmt=\"d\", annot_kws={'size':16})\n",
    "\n",
    "heatmap.yaxis.set_ticklabels(heatmap.yaxis.get_ticklabels(), rotation=0, ha='right',fontsize=12)\n",
    "heatmap.xaxis.set_ticklabels(heatmap.xaxis.get_ticklabels(), rotation=0, ha='right',fontsize=12)\n",
    "plt.ylabel('True label')\n",
    "plt.xlabel('Predicted label')\n",
    "plt.show()"
   ]
  },
  {
   "cell_type": "code",
   "execution_count": null,
   "metadata": {},
   "outputs": [],
   "source": []
  },
  {
   "cell_type": "code",
   "execution_count": 36,
   "metadata": {},
   "outputs": [],
   "source": [
    "# Save model\n",
    "# torch.save(model.state_dict(), \"checkpoint/\" + \"ResNet.pth\")"
   ]
  },
  {
   "cell_type": "code",
   "execution_count": null,
   "metadata": {},
   "outputs": [],
   "source": [
    "# Load\n",
    "# model.load_state_dict(torch.load(\"checkpoint/\" + \"DNN.pth\"))\n",
    "# model.eval()"
   ]
  },
  {
   "cell_type": "code",
   "execution_count": 13,
   "metadata": {},
   "outputs": [],
   "source": [
    "# import shutil"
   ]
  },
  {
   "cell_type": "code",
   "execution_count": 15,
   "metadata": {},
   "outputs": [],
   "source": [
    "# shutil.make_archive('/MRI_all',\n",
    "#                     'zip')"
   ]
  },
  {
   "cell_type": "code",
   "execution_count": null,
   "metadata": {},
   "outputs": [],
   "source": []
  }
 ],
 "metadata": {
  "kernelspec": {
   "display_name": "Python 3",
   "language": "python",
   "name": "python3"
  },
  "language_info": {
   "codemirror_mode": {
    "name": "ipython",
    "version": 3
   },
   "file_extension": ".py",
   "mimetype": "text/x-python",
   "name": "python",
   "nbconvert_exporter": "python",
   "pygments_lexer": "ipython3",
   "version": "3.10.4"
  }
 },
 "nbformat": 4,
 "nbformat_minor": 4
}
