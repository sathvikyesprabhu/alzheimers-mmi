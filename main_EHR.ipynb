{
 "cells": [
  {
   "cell_type": "code",
   "execution_count": 1,
   "metadata": {},
   "outputs": [],
   "source": [
    "import torch\n",
    "import torch.nn as nn\n",
    "import torch.nn.functional as F\n",
    "from torchvision import transforms, models, datasets\n",
    "from torch.utils.data import DataLoader\n",
    "\n",
    "import numpy as np\n",
    "import matplotlib.pyplot as plt\n",
    "import os\n",
    "import pandas as pd\n",
    "import seaborn as sn\n",
    "from sklearn.metrics import classification_report, confusion_matrix\n",
    "\n",
    "from resnet import ResNet\n",
    "from unet import UNet\n",
    "from dnn import DNN\n",
    "from utils import *"
   ]
  },
  {
   "cell_type": "code",
   "execution_count": 2,
   "metadata": {},
   "outputs": [
    {
     "name": "stdout",
     "output_type": "stream",
     "text": [
      "True\n",
      "0\n",
      "1\n",
      "Tesla V100-PCIE-16GB\n"
     ]
    }
   ],
   "source": [
    "print(torch.cuda.is_available())\n",
    "print(torch.cuda.current_device())\n",
    "print(torch.cuda.device_count())\n",
    "print(torch.cuda.get_device_name(0))\n",
    "\n",
    "device = torch.device('cuda:0' if torch.cuda.is_available() else 'cpu')"
   ]
  },
  {
   "cell_type": "code",
   "execution_count": null,
   "metadata": {},
   "outputs": [],
   "source": []
  },
  {
   "cell_type": "code",
   "execution_count": 3,
   "metadata": {},
   "outputs": [
    {
     "name": "stdout",
     "output_type": "stream",
     "text": [
      "train AD 094_S_1402.npy (100,)\n",
      "train AD 005_S_0929.npy (100,)\n",
      "train AD 021_S_0642.npy (100,)\n",
      "train AD 094_S_1164.npy (100,)\n",
      "train AD 029_S_0836.npy (100,)\n",
      "train AD 027_S_0850.npy (100,)\n",
      "train AD 021_S_0343.npy (100,)\n",
      "train AD 029_S_1056.npy (100,)\n",
      "train AD 126_S_1221.npy (100,)\n",
      "train AD 037_S_0627.npy (100,)\n",
      "train AD 007_S_1339.npy (100,)\n",
      "train AD 031_S_0554.npy (100,)\n",
      "train AD 021_S_1109.npy (100,)\n",
      "train AD 127_S_0431.npy (100,)\n",
      "train AD 033_S_0889.npy (100,)\n",
      "train AD 053_S_1044.npy (100,)\n",
      "train AD 127_S_0754.npy (100,)\n",
      "train AD 006_S_0653.npy (100,)\n",
      "train AD 127_S_1382.npy (100,)\n",
      "train AD 098_S_0149.npy (100,)\n",
      "train AD 031_S_0321.npy (100,)\n",
      "train AD 005_S_0221.npy (100,)\n",
      "train AD 005_S_1341.npy (100,)\n",
      "train AD 033_S_1281.npy (100,)\n",
      "train AD 094_S_1397.npy (100,)\n",
      "train AD 007_S_0316.npy (100,)\n",
      "train AD 024_S_1171.npy (100,)\n",
      "train AD 027_S_1254.npy (100,)\n",
      "train AD 094_S_1090.npy (100,)\n",
      "train AD 126_S_0891.npy (100,)\n",
      "train AD 116_S_0370.npy (100,)\n",
      "train AD 033_S_1285.npy (100,)\n",
      "train AD 033_S_1283.npy (100,)\n",
      "train AD 006_S_0547.npy (100,)\n",
      "train CN 033_S_1098.npy (100,)\n",
      "train CN 009_S_0862.npy (100,)\n",
      "train CN 027_S_0120.npy (100,)\n",
      "train CN 094_S_0526.npy (100,)\n",
      "train CN 029_S_0845.npy (100,)\n",
      "train CN 009_S_0842.npy (100,)\n",
      "train CN 116_S_0657.npy (100,)\n",
      "train CN 098_S_0171.npy (100,)\n",
      "train CN 006_S_0498.npy (100,)\n",
      "train CN 116_S_1232.npy (100,)\n",
      "train CN 126_S_0680.npy (100,)\n",
      "train CN 021_S_0984.npy (100,)\n",
      "train CN 005_S_0553.npy (100,)\n",
      "train CN 116_S_0648.npy (100,)\n",
      "train CN 098_S_0172.npy (100,)\n",
      "train CN 005_S_0223.npy (100,)\n",
      "train CN 033_S_0734.npy (100,)\n",
      "train CN 002_S_1280.npy (100,)\n",
      "train CN 021_S_0337.npy (100,)\n",
      "train CN 033_S_0741.npy (100,)\n",
      "train CN 037_S_0454.npy (100,)\n",
      "train CN 094_S_0489.npy (100,)\n",
      "train CN 127_S_0260.npy (100,)\n",
      "train CN 006_S_0731.npy (100,)\n",
      "train CN 002_S_1261.npy (100,)\n",
      "train CN 127_S_0684.npy (100,)\n",
      "train CN 033_S_0920.npy (100,)\n",
      "train CN 006_S_0484.npy (100,)\n",
      "train CN 037_S_0327.npy (100,)\n",
      "train CN 009_S_0751.npy (100,)\n",
      "train CN 037_S_0303.npy (100,)\n",
      "train CN 024_S_0985.npy (100,)\n",
      "train CN 127_S_0259.npy (100,)\n",
      "train CN 002_S_0413.npy (100,)\n",
      "train CN 002_S_0685.npy (100,)\n",
      "train CN 014_S_0519.npy (100,)\n",
      "train CN 014_S_0520.npy (100,)\n",
      "train CN 037_S_0467.npy (100,)\n",
      "train CN 029_S_0866.npy (100,)\n",
      "train CN 005_S_0610.npy (100,)\n",
      "train CN 014_S_0548.npy (100,)\n",
      "train CN 031_S_0618.npy (100,)\n",
      "train CN 033_S_0923.npy (100,)\n",
      "train CN 029_S_0843.npy (100,)\n",
      "train CN 033_S_1016.npy (100,)\n",
      "train CN 021_S_0159.npy (100,)\n",
      "train CN 007_S_1206.npy (100,)\n",
      "train CN 098_S_0896.npy (100,)\n",
      "train CN 116_S_0360.npy (100,)\n",
      "train CN 027_S_0118.npy (100,)\n",
      "train CN 021_S_0647.npy (100,)\n",
      "train CN 005_S_0602.npy (100,)\n",
      "train MCI 007_S_0128.npy (100,)\n",
      "train MCI 007_S_0344.npy (100,)\n",
      "train MCI 027_S_0461.npy (100,)\n",
      "train MCI 027_S_0256.npy (100,)\n",
      "train MCI 033_S_0511.npy (100,)\n",
      "train MCI 024_S_1393.npy (100,)\n",
      "train MCI 127_S_1419.npy (100,)\n",
      "train MCI 027_S_1045.npy (100,)\n",
      "train MCI 027_S_0835.npy (100,)\n",
      "train MCI 031_S_1066.npy (100,)\n",
      "train MCI 116_S_1315.npy (100,)\n",
      "train MCI 031_S_0294.npy (100,)\n",
      "train MCI 014_S_0658.npy (100,)\n",
      "train MCI 037_S_1421.npy (100,)\n",
      "train MCI 027_S_0408.npy (100,)\n",
      "train MCI 033_S_1116.npy (100,)\n",
      "train MCI 116_S_0361.npy (100,)\n",
      "train MCI 006_S_1130.npy (100,)\n",
      "train MCI 098_S_0160.npy (100,)\n",
      "train MCI 037_S_0150.npy (100,)\n",
      "train MCI 009_S_1030.npy (100,)\n",
      "train MCI 029_S_1073.npy (100,)\n",
      "train MCI 029_S_1218.npy (100,)\n",
      "train MCI 127_S_1427.npy (100,)\n",
      "train MCI 029_S_1215.npy (100,)\n",
      "train MCI 005_S_0448.npy (100,)\n",
      "train MCI 029_S_1038.npy (100,)\n",
      "train MCI 052_S_1346.npy (100,)\n",
      "train MCI 127_S_1032.npy (100,)\n",
      "train MCI 094_S_1188.npy (100,)\n",
      "train MCI 029_S_1318.npy (100,)\n",
      "train MCI 126_S_0708.npy (100,)\n",
      "train MCI 007_S_0414.npy (100,)\n",
      "train MCI 037_S_0552.npy (100,)\n",
      "train MCI 127_S_0394.npy (100,)\n",
      "train MCI 031_S_0867.npy (100,)\n",
      "train MCI 002_S_1268.npy (100,)\n",
      "train MCI 037_S_0377.npy (100,)\n",
      "train MCI 021_S_0424.npy (100,)\n",
      "train MCI 127_S_0112.npy (100,)\n",
      "train MCI 126_S_1187.npy (100,)\n",
      "train MCI 094_S_0531.npy (100,)\n",
      "train MCI 027_S_0485.npy (100,)\n",
      "train MCI 094_S_1314.npy (100,)\n",
      "train MCI 027_S_0644.npy (100,)\n",
      "train MCI 098_S_0269.npy (100,)\n",
      "train MCI 021_S_0141.npy (100,)\n",
      "train MCI 029_S_0914.npy (100,)\n",
      "train MCI 053_S_0621.npy (100,)\n",
      "train MCI 002_S_0729.npy (100,)\n",
      "train MCI 002_S_1155.npy (100,)\n",
      "train MCI 053_S_0919.npy (100,)\n",
      "train MCI 007_S_0698.npy (100,)\n",
      "train MCI 005_S_1224.npy (100,)\n",
      "train MCI 006_S_0675.npy (100,)\n",
      "train MCI 027_S_0307.npy (100,)\n",
      "train MCI 024_S_1400.npy (100,)\n",
      "train MCI 127_S_1210.npy (100,)\n",
      "train MCI 126_S_1077.npy (100,)\n",
      "train MCI 126_S_0865.npy (100,)\n",
      "train MCI 033_S_0723.npy (100,)\n",
      "train MCI 005_S_0222.npy (100,)\n",
      "train MCI 014_S_0563.npy (100,)\n",
      "train MCI 021_S_0178.npy (100,)\n",
      "train MCI 007_S_0293.npy (100,)\n",
      "train MCI 094_S_1417.npy (100,)\n",
      "train MCI 021_S_0626.npy (100,)\n",
      "train MCI 005_S_0572.npy (100,)\n",
      "train MCI 037_S_0566.npy (100,)\n",
      "train MCI 033_S_0567.npy (100,)\n",
      "train MCI 116_S_0834.npy (100,)\n",
      "train MCI 098_S_0667.npy (100,)\n",
      "train MCI 052_S_0989.npy (100,)\n",
      "train MCI 127_S_0925.npy (100,)\n",
      "train MCI 052_S_1352.npy (100,)\n",
      "train MCI 116_S_1243.npy (100,)\n",
      "train MCI 033_S_0906.npy (100,)\n",
      "train MCI 033_S_0513.npy (100,)\n",
      "train MCI 005_S_0546.npy (100,)\n",
      "train MCI 021_S_0231.npy (100,)\n",
      "train MCI 053_S_0389.npy (100,)\n",
      "train MCI 126_S_0709.npy (100,)\n",
      "train MCI 031_S_0830.npy (100,)\n",
      "train MCI 007_S_0101.npy (100,)\n",
      "train MCI 029_S_1384.npy (100,)\n",
      "train MCI 037_S_1078.npy (100,)\n",
      "train MCI 021_S_0276.npy (100,)\n",
      "train MCI 094_S_1398.npy (100,)\n",
      "train MCI 052_S_0671.npy (100,)\n",
      "test AD 128_S_0216.npy (100,)\n",
      "test AD 131_S_0497.npy (100,)\n",
      "test AD 128_S_0167.npy (100,)\n",
      "test AD 137_S_0841.npy (100,)\n",
      "test AD 137_S_0438.npy (100,)\n",
      "test AD 128_S_0740.npy (100,)\n",
      "test AD 128_S_0266.npy (100,)\n",
      "test AD 137_S_1041.npy (100,)\n",
      "test CN 130_S_0969.npy (100,)\n",
      "test CN 137_S_0283.npy (100,)\n",
      "test CN 131_S_0441.npy (100,)\n",
      "test CN 131_S_0319.npy (100,)\n",
      "test CN 137_S_0686.npy (100,)\n",
      "test CN 131_S_0123.npy (100,)\n",
      "test CN 136_S_0186.npy (100,)\n",
      "test CN 137_S_0301.npy (100,)\n",
      "test CN 128_S_0272.npy (100,)\n",
      "test CN 130_S_0232.npy (100,)\n",
      "test CN 128_S_0245.npy (100,)\n",
      "test CN 128_S_0545.npy (100,)\n",
      "test CN 128_S_0230.npy (100,)\n",
      "test CN 137_S_0459.npy (100,)\n",
      "test CN 128_S_0522.npy (100,)\n",
      "test CN 129_S_0778.npy (100,)\n",
      "test CN 130_S_0886.npy (100,)\n",
      "test CN 137_S_0972.npy (100,)\n",
      "test CN 128_S_0500.npy (100,)\n",
      "test CN 130_S_1200.npy (100,)\n",
      "test CN 128_S_0229.npy (100,)\n",
      "test MCI 137_S_0443.npy (100,)\n",
      "test MCI 128_S_0608.npy (100,)\n",
      "test MCI 128_S_0770.npy (100,)\n",
      "test MCI 137_S_0973.npy (100,)\n",
      "test MCI 137_S_0722.npy (100,)\n",
      "test MCI 137_S_0994.npy (100,)\n",
      "test MCI 129_S_1204.npy (100,)\n",
      "test MCI 130_S_0505.npy (100,)\n",
      "test MCI 128_S_0227.npy (100,)\n",
      "test MCI 137_S_1426.npy (100,)\n",
      "test MCI 128_S_0715.npy (100,)\n",
      "test MCI 137_S_0158.npy (100,)\n",
      "test MCI 129_S_1246.npy (100,)\n",
      "test MCI 137_S_0669.npy (100,)\n",
      "test MCI 132_S_0987.npy (100,)\n",
      "test MCI 128_S_0258.npy (100,)\n",
      "test MCI 128_S_0188.npy (100,)\n",
      "test MCI 137_S_0668.npy (100,)\n",
      "test MCI 137_S_1414.npy (100,)\n",
      "test MCI 136_S_0695.npy (100,)\n",
      "test MCI 137_S_0481.npy (100,)\n",
      "test MCI 137_S_0825.npy (100,)\n",
      "test MCI 128_S_0200.npy (100,)\n",
      "test MCI 137_S_0800.npy (100,)\n",
      "test MCI 128_S_0205.npy (100,)\n",
      "test MCI 136_S_0107.npy (100,)\n",
      "test MCI 130_S_0460.npy (100,)\n",
      "test MCI 130_S_0285.npy (100,)\n",
      "test MCI 130_S_0289.npy (100,)\n",
      "test MCI 130_S_0783.npy (100,)\n",
      "test MCI 128_S_0225.npy (100,)\n",
      "test MCI 128_S_0138.npy (100,)\n",
      "test MCI 136_S_0873.npy (100,)\n",
      "test MCI 131_S_0409.npy (100,)\n",
      "test MCI 128_S_0135.npy (100,)\n"
     ]
    }
   ],
   "source": [
    "cls_num_list_train = [0,0,0]\n",
    "cls_num_list_test = [0,0,0]\n",
    "n = 0\n",
    "bigmat = []\n",
    "\n",
    "for folder in [\"train\",\"test\"]:\n",
    "    for cls_idx,subfolder in enumerate([\"AD\",\"CN\",\"MCI\"]):\n",
    "        files = os.listdir('EHR/' + folder + '/' + subfolder)\n",
    "        \n",
    "        for file in files:\n",
    "            mat = np.load('EHR/' + folder + '/' + subfolder + '/' + file)\n",
    "            \n",
    "            if folder==\"train\":\n",
    "                bigmat.append(mat)\n",
    "                n += 1\n",
    "                cls_num_list_train[cls_idx] += 1\n",
    "            if folder==\"test\":\n",
    "                cls_num_list_test[cls_idx] +=1\n",
    "            \n",
    "            print(folder, subfolder, file, mat.shape)\n",
    "            # if(mat.shape[0] != 166):\n",
    "            #     os.remove(folder + '/' + subfolder + '/' + file)\n",
    "            \n",
    "            # np.save(folder + '/' + subfolder + '/' + file, mat)"
   ]
  },
  {
   "cell_type": "code",
   "execution_count": 4,
   "metadata": {},
   "outputs": [
    {
     "name": "stdout",
     "output_type": "stream",
     "text": [
      "[34, 52, 89] [8, 21, 35]\n"
     ]
    }
   ],
   "source": [
    "print(cls_num_list_train, cls_num_list_test)"
   ]
  },
  {
   "cell_type": "code",
   "execution_count": 5,
   "metadata": {},
   "outputs": [
    {
     "data": {
      "text/plain": [
       "(175, 100)"
      ]
     },
     "execution_count": 5,
     "metadata": {},
     "output_type": "execute_result"
    }
   ],
   "source": [
    "bigmat = np.stack(bigmat)\n",
    "bigmat.shape"
   ]
  },
  {
   "cell_type": "code",
   "execution_count": 6,
   "metadata": {},
   "outputs": [],
   "source": [
    "# !ls train/CN -a"
   ]
  },
  {
   "cell_type": "code",
   "execution_count": 7,
   "metadata": {},
   "outputs": [],
   "source": [
    "# !rm -R EHR/train/AD/.ipynb_checkpoints\n",
    "# !rm -R EHR/test/AD/.ipynb_checkpoints\n",
    "# !rm -R EHR/train/CN/.ipynb_checkpoints\n",
    "# !rm -R EHR/test/CN/.ipynb_checkpoints\n",
    "# !rm -R EHR/train/MCI/.ipynb_checkpoints\n",
    "# !rm -R EHR/test/MCI/.ipynb_checkpoints\n",
    "# !rm -R EHR/train/.ipynb_checkpoints\n",
    "# !rm -R EHR/test/.ipynb_checkpoints\n",
    "# !ls train -a\n",
    "# !ls test -a"
   ]
  },
  {
   "cell_type": "code",
   "execution_count": 25,
   "metadata": {},
   "outputs": [],
   "source": [
    "data = bigmat\n",
    "mean_list = np.mean(data,axis=0)\n",
    "std_list = np.std(data,axis=0) + 0.01"
   ]
  },
  {
   "cell_type": "code",
   "execution_count": 26,
   "metadata": {},
   "outputs": [],
   "source": [
    "# transform_train = transforms.Compose([transforms.ToTensor(),\n",
    "#                                      transforms.Normalize(mean_list, std_list)\n",
    "#                                     ])\n",
    "# transform_test = transforms.Compose([transforms.ToTensor(),\n",
    "#                                     transforms.Normalize(mean_list, std_list)])\n",
    "\n",
    "def npy_loader_train(path):\n",
    "    mat = np.load(path)\n",
    "    # mat = transform_train(mat)\n",
    "    mat = (mat - mean_list)/std_list\n",
    "    mat = torch.Tensor(mat)\n",
    "    return mat\n",
    "\n",
    "def npy_loader_test(path):\n",
    "    mat = np.load(path)\n",
    "    # mat = transform_test(mat)\n",
    "    mat = (mat - mean_list)/std_list\n",
    "    mat = torch.Tensor(mat)\n",
    "    return mat\n",
    "\n",
    "trainset = datasets.DatasetFolder(root=\"EHR/train\", loader=npy_loader_train, extensions=(\".npy\"))\n",
    "testset = datasets.DatasetFolder(root=\"EHR/test\", loader=npy_loader_test, extensions=(\".npy\"))\n",
    "\n",
    "trainloader = DataLoader(trainset, batch_size=2, shuffle=True)\n",
    "testloader = DataLoader(testset, batch_size=2, shuffle=False)"
   ]
  },
  {
   "cell_type": "code",
   "execution_count": 27,
   "metadata": {},
   "outputs": [],
   "source": [
    "# for x,y in trainloader:\n",
    "#     print(x)\n",
    "#     break"
   ]
  },
  {
   "cell_type": "markdown",
   "metadata": {},
   "source": [
    "## Model"
   ]
  },
  {
   "cell_type": "code",
   "execution_count": 54,
   "metadata": {},
   "outputs": [
    {
     "name": "stdout",
     "output_type": "stream",
     "text": [
      "1043 parameters\n"
     ]
    },
    {
     "data": {
      "text/plain": [
       "tensor([[0.4773, 0.5295, 0.5943]], grad_fn=<SigmoidBackward0>)"
      ]
     },
     "execution_count": 54,
     "metadata": {},
     "output_type": "execute_result"
    }
   ],
   "source": [
    "model = DNN(in_channels= 100, num_classes=3)\n",
    "\n",
    "print(sum(p.numel() for p in model.parameters()), \"parameters\")\n",
    "x = torch.randn(1,100)\n",
    "model(x)"
   ]
  },
  {
   "cell_type": "markdown",
   "metadata": {},
   "source": [
    "## Training"
   ]
  },
  {
   "cell_type": "code",
   "execution_count": 55,
   "metadata": {},
   "outputs": [],
   "source": [
    "per_cls_weights = [0.5,0.35,0.15]\n",
    "criterion = nn.CrossEntropyLoss(weight=torch.tensor(per_cls_weights)) # CE Loss, Takes care of applying softmax\n",
    "\n",
    "# per_cls_weights = reweight(cls_num_list_train, beta=0.999)\n",
    "# criterion = FocalLoss(weight=per_cls_weights, gamma=1)\n",
    "\n",
    "optimizer = torch.optim.Adam(model.parameters(), lr=0.01) # Adam optimizer\n",
    "# optimizer = torch.optim.SGD(model.parameters(), lr=0.01, momentum=0.9, weight_decay=5e-4) # SGD\n",
    "\n",
    "device = 'cpu'\n",
    "model = model.to(device)\n",
    "criterion = criterion.to(device)"
   ]
  },
  {
   "cell_type": "code",
   "execution_count": 56,
   "metadata": {},
   "outputs": [
    {
     "name": "stdout",
     "output_type": "stream",
     "text": [
      "Epoch:0 | Train loss: 1.0417 | Test loss: 0.9679 | Train acc.: 0.4571 | Test acc.: 0.6406\n",
      "\n",
      "Epoch:1 | Train loss: 0.9344 | Test loss: 0.9399 | Train acc.: 0.6057 | Test acc.: 0.6406\n",
      "\n",
      "Epoch:2 | Train loss: 0.9133 | Test loss: 0.9331 | Train acc.: 0.5829 | Test acc.: 0.6406\n",
      "\n",
      "Epoch:3 | Train loss: 0.8988 | Test loss: 0.9286 | Train acc.: 0.5771 | Test acc.: 0.6250\n",
      "\n",
      "Epoch:4 | Train loss: 0.8882 | Test loss: 0.9325 | Train acc.: 0.6400 | Test acc.: 0.5469\n",
      "\n",
      "Epoch:5 | Train loss: 0.8767 | Test loss: 0.9298 | Train acc.: 0.5771 | Test acc.: 0.5469\n",
      "\n",
      "Epoch:6 | Train loss: 0.8796 | Test loss: 0.9241 | Train acc.: 0.5829 | Test acc.: 0.6250\n",
      "\n",
      "Epoch:7 | Train loss: 0.8831 | Test loss: 0.9219 | Train acc.: 0.6171 | Test acc.: 0.6406\n",
      "\n",
      "Epoch:8 | Train loss: 0.8688 | Test loss: 0.9180 | Train acc.: 0.6114 | Test acc.: 0.6562\n",
      "\n",
      "Epoch:9 | Train loss: 0.8741 | Test loss: 0.9193 | Train acc.: 0.6571 | Test acc.: 0.6562\n",
      "\n",
      "Epoch:10 | Train loss: 0.8692 | Test loss: 0.9205 | Train acc.: 0.6286 | Test acc.: 0.6562\n",
      "\n",
      "Epoch:11 | Train loss: 0.8701 | Test loss: 0.9184 | Train acc.: 0.6400 | Test acc.: 0.6562\n",
      "\n",
      "Epoch:12 | Train loss: 0.8684 | Test loss: 0.9168 | Train acc.: 0.6743 | Test acc.: 0.6719\n",
      "\n",
      "Epoch:13 | Train loss: 0.8742 | Test loss: 0.9186 | Train acc.: 0.6286 | Test acc.: 0.6406\n",
      "\n",
      "Epoch:14 | Train loss: 0.8627 | Test loss: 0.9159 | Train acc.: 0.6286 | Test acc.: 0.6719\n",
      "\n",
      "Epoch:15 | Train loss: 0.8687 | Test loss: 0.9165 | Train acc.: 0.6171 | Test acc.: 0.6406\n",
      "\n",
      "Epoch:16 | Train loss: 0.8620 | Test loss: 0.9100 | Train acc.: 0.6743 | Test acc.: 0.6094\n",
      "\n",
      "Epoch:17 | Train loss: 0.8718 | Test loss: 0.9140 | Train acc.: 0.6514 | Test acc.: 0.6562\n",
      "\n",
      "Epoch:18 | Train loss: 0.8631 | Test loss: 0.9120 | Train acc.: 0.6514 | Test acc.: 0.6562\n",
      "\n",
      "Epoch:19 | Train loss: 0.8743 | Test loss: 0.9148 | Train acc.: 0.6400 | Test acc.: 0.6562\n",
      "\n"
     ]
    }
   ],
   "source": [
    "train_loss_list = []\n",
    "test_loss_list = []\n",
    "\n",
    "for epoch in range(20):  # num epochs\n",
    "    \n",
    "    # Training\n",
    "    model.train() # Set to train mode\n",
    "    running_loss = 0.0\n",
    "    running_corrects = 0\n",
    "\n",
    "    for i, data in enumerate(trainloader): # Get data batch-wise\n",
    "        inputs, labels = data\n",
    "        inputs, labels = inputs.to(device), labels.to(device)\n",
    "        # print(inputs.shape, inputs.dtype)\n",
    "        # labels = labels.type(torch.LongTensor)\n",
    "\n",
    "        # zero out gradients\n",
    "        optimizer.zero_grad()\n",
    "\n",
    "        outputs = model(inputs) # forward pass\n",
    "        # print(outputs.shape, labels.shape)\n",
    "        loss = criterion(outputs, labels) # Get loss\n",
    "        loss.backward() # Backward pass\n",
    "        optimizer.step() # Optimize model weights\n",
    "\n",
    "        _, preds = torch.max(outputs, 1) # Get predictions\n",
    "        running_loss += loss.detach() * inputs.size(0)\n",
    "        running_corrects += torch.sum(preds == labels.data)\n",
    "\n",
    "    # Get loss and accuracy\n",
    "    train_loss = (running_loss / len(trainset))\n",
    "    train_loss_list.append(train_loss.item())\n",
    "    train_accuracy = (running_corrects.float() / len(trainset))\n",
    "\n",
    "    # Testing\n",
    "    model.eval() # Set to eval mode\n",
    "    running_loss = 0.0\n",
    "    running_corrects = 0\n",
    "    y = []; yhat = []\n",
    "\n",
    "    for i, data in enumerate(testloader):\n",
    "        inputs, labels = data\n",
    "        inputs, labels = inputs.to(device), labels.to(device)\n",
    "        # labels = labels.type(torch.LongTensor)\n",
    "\n",
    "        # forward + backward + optimize\n",
    "        with torch.no_grad(): # Don't build computation graph for testing\n",
    "            outputs = model(inputs)\n",
    "        # print(outputs.shape, labels.shape)\n",
    "        loss = criterion(outputs, labels)\n",
    "\n",
    "        _, preds = torch.max(outputs, 1)\n",
    "        y.append(labels.tolist())\n",
    "        yhat.append(preds.tolist())\n",
    "        running_loss += loss.detach() * inputs.size(0)\n",
    "        running_corrects += torch.sum(preds == labels.data)\n",
    "    \n",
    "    # Get loss and accuracy\n",
    "    test_loss = (running_loss / len(testset))\n",
    "    test_loss_list.append(test_loss.item())\n",
    "    test_accuracy = (running_corrects.float() / len(testset))\n",
    "\n",
    "    # Display loss, accuracy values after each epoch\n",
    "    print(\"Epoch:{} | Train loss: {:.4f} | Test loss: {:.4f} | Train acc.: {:.4f} | Test acc.: {:.4f}\\n\"\n",
    "              .format(epoch, train_loss.item(),test_loss.item(),train_accuracy.item(),test_accuracy.item()))\n"
   ]
  },
  {
   "cell_type": "code",
   "execution_count": 58,
   "metadata": {},
   "outputs": [
    {
     "data": {
      "image/png": "[encoded data removed]",
      "text/plain": [
       "<Figure size 640x480 with 1 Axes>"
      ]
     },
     "metadata": {},
     "output_type": "display_data"
    }
   ],
   "source": [
    "# Loss curves\n",
    "plt.plot(train_loss_list)\n",
    "plt.plot(test_loss_list)\n",
    "plt.xlabel(\"Epoch\"); plt.ylabel(\"Loss\")\n",
    "plt.ylim(bottom = 0)\n",
    "plt.legend([\"Train loss\", \"Test loss\"])\n",
    "plt.show()"
   ]
  },
  {
   "cell_type": "markdown",
   "metadata": {},
   "source": [
    "## Evaluation"
   ]
  },
  {
   "cell_type": "code",
   "execution_count": 59,
   "metadata": {},
   "outputs": [
    {
     "name": "stdout",
     "output_type": "stream",
     "text": [
      "              precision    recall  f1-score   support\n",
      "\n",
      "          AD     0.4211    1.0000    0.5926         8\n",
      "          CN     0.6667    0.5714    0.6154        21\n",
      "         MCI     0.8148    0.6286    0.7097        35\n",
      "\n",
      "    accuracy                         0.6562        64\n",
      "   macro avg     0.6342    0.7333    0.6392        64\n",
      "weighted avg     0.7170    0.6562    0.6641        64\n",
      "\n"
     ]
    }
   ],
   "source": [
    "y = np.hstack(y)\n",
    "yhat = np.hstack(yhat)\n",
    "print(classification_report(y, yhat, target_names=trainset.classes, digits=4))"
   ]
  },
  {
   "cell_type": "code",
   "execution_count": 60,
   "metadata": {},
   "outputs": [
    {
     "data": {
      "image/png": "[encoded data removed]",
      "text/plain": [
       "<Figure size 600x400 with 2 Axes>"
      ]
     },
     "metadata": {},
     "output_type": "display_data"
    }
   ],
   "source": [
    "cm=confusion_matrix(y,yhat)\n",
    "class_names=trainset.classes\n",
    "#     print(cm)\n",
    "\n",
    "# Enhanced confusion matrix\n",
    "plt.figure(figsize=(6,4))\n",
    "df_cm = pd.DataFrame(cm, index=class_names, columns=class_names).astype(int)\n",
    "heatmap = sn.heatmap(df_cm, cmap=\"Blues\", annot=True, fmt=\"d\", annot_kws={'size':16})\n",
    "\n",
    "heatmap.yaxis.set_ticklabels(heatmap.yaxis.get_ticklabels(), rotation=0, ha='right',fontsize=12)\n",
    "heatmap.xaxis.set_ticklabels(heatmap.xaxis.get_ticklabels(), rotation=0, ha='right',fontsize=12)\n",
    "plt.ylabel('True label')\n",
    "plt.xlabel('Predicted label')\n",
    "plt.show()"
   ]
  },
  {
   "cell_type": "code",
   "execution_count": null,
   "metadata": {},
   "outputs": [],
   "source": []
  },
  {
   "cell_type": "code",
   "execution_count": 61,
   "metadata": {},
   "outputs": [],
   "source": [
    "# Save model\n",
    "# torch.save(model.state_dict(), \"checkpoint/\" + \"DNN.pth\")"
   ]
  },
  {
   "cell_type": "code",
   "execution_count": null,
   "metadata": {},
   "outputs": [],
   "source": [
    "# Load\n",
    "# model.load_state_dict(torch.load(\"checkpoint/\" + \"DNN.pth\"))\n",
    "# model.eval()"
   ]
  }
 ],
 "metadata": {
  "kernelspec": {
   "display_name": "Python 3",
   "language": "python",
   "name": "python3"
  },
  "language_info": {
   "codemirror_mode": {
    "name": "ipython",
    "version": 3
   },
   "file_extension": ".py",
   "mimetype": "text/x-python",
   "name": "python",
   "nbconvert_exporter": "python",
   "pygments_lexer": "ipython3",
   "version": "3.8.10"
  }
 },
 "nbformat": 4,
 "nbformat_minor": 4
}
